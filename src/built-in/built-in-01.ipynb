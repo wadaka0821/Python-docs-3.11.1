{
 "cells": [
  {
   "cell_type": "markdown",
   "metadata": {},
   "source": [
    "# Built-in functions"
   ]
  },
  {
   "cell_type": "markdown",
   "metadata": {},
   "source": [
    "check this url for full documentation : https://docs.python.org/3.11/library/functions.html"
   ]
  },
  {
   "cell_type": "markdown",
   "metadata": {},
   "source": [
    "## abs(x)"
   ]
  },
  {
   "cell_type": "code",
   "execution_count": 1,
   "metadata": {},
   "outputs": [
    {
     "name": "stdout",
     "output_type": "stream",
     "text": [
      "x=-4 => abs(x)=4\n",
      "x=4 => abs(x)=4\n",
      "x=0 => abs(x)=0\n"
     ]
    }
   ],
   "source": [
    "num:int = -4\n",
    "print('x={} => abs(x)={}'.format(num, abs(num)))\n",
    "num:int = 4\n",
    "print('x={} => abs(x)={}'.format(num, abs(num)))\n",
    "num:int = 0\n",
    "print('x={} => abs(x)={}'.format(num, abs(num)))\n"
   ]
  },
  {
   "attachments": {},
   "cell_type": "markdown",
   "metadata": {},
   "source": [
    "## aiter(async_iterable)"
   ]
  },
  {
   "cell_type": "code",
   "execution_count": 38,
   "metadata": {},
   "outputs": [],
   "source": [
    "from typing import Self\n",
    "import asyncio\n",
    "import time\n",
    "\n",
    "class MyObject():\n",
    "    def __init__(self, end=5) -> None:\n",
    "        self.data = list(range(end))\n",
    "        self._idx = 0\n",
    "    \n",
    "    def __next__(self) -> int | StopIteration:\n",
    "        if self._idx >= len(self.data):\n",
    "            self._idx = 0\n",
    "            raise StopIteration()\n",
    "        else:\n",
    "            time.sleep(1)\n",
    "            self._idx += 1\n",
    "            return self.data[self._idx-1]\n",
    "    \n",
    "    def __iter__(self) -> Self:\n",
    "        return self\n",
    "    \n",
    "    async def __anext__(self) -> int | StopAsyncIteration:\n",
    "        if self._idx >= len(self.data):\n",
    "            self._idx = 0\n",
    "            raise StopAsyncIteration()\n",
    "        else:\n",
    "            await asyncio.sleep(1)\n",
    "            self._idx += 1\n",
    "            return self.data[self._idx-1]\n",
    "\n",
    "    def __aiter__(self) -> Self:\n",
    "        return self"
   ]
  },
  {
   "cell_type": "code",
   "execution_count": 39,
   "metadata": {},
   "outputs": [],
   "source": [
    "def func():\n",
    "    obj = MyObject()\n",
    "    for i in obj:\n",
    "        print(i)\n",
    "\n",
    "async def asyncfunc():\n",
    "    obj = MyObject()\n",
    "    async for i in obj:\n",
    "        print(i)"
   ]
  },
  {
   "cell_type": "code",
   "execution_count": 40,
   "metadata": {},
   "outputs": [
    {
     "name": "stdout",
     "output_type": "stream",
     "text": [
      "0\n",
      "1\n",
      "2\n",
      "3\n",
      "4\n",
      "0\n",
      "1\n",
      "2\n",
      "3\n",
      "4\n",
      "time : 10.00257921218872\n"
     ]
    }
   ],
   "source": [
    "start = time.time()\n",
    "\n",
    "func()\n",
    "func()\n",
    "\n",
    "end = time.time()\n",
    "print('time : {}'.format(end-start))"
   ]
  },
  {
   "cell_type": "code",
   "execution_count": 41,
   "metadata": {},
   "outputs": [
    {
     "name": "stdout",
     "output_type": "stream",
     "text": [
      "0\n",
      "0\n",
      "1\n",
      "1\n",
      "2\n",
      "2\n",
      "3\n",
      "3\n",
      "4\n",
      "4\n",
      "time : 5.0075438022613525\n"
     ]
    }
   ],
   "source": [
    "start = time.time()\n",
    "\n",
    "task1 = asyncio.create_task(asyncfunc())\n",
    "task2 = asyncio.create_task(asyncfunc())\n",
    "\n",
    "await task1\n",
    "await task2\n",
    "\n",
    "end = time.time()\n",
    "print('time : {}'.format(end-start))"
   ]
  },
  {
   "attachments": {},
   "cell_type": "markdown",
   "metadata": {},
   "source": [
    "## all(iterable)"
   ]
  },
  {
   "cell_type": "code",
   "execution_count": 43,
   "metadata": {},
   "outputs": [
    {
     "name": "stdout",
     "output_type": "stream",
     "text": [
      "[True, True, True, True, True] all(l) = True\n",
      "[True, False, True, True, True] all(l) = False\n"
     ]
    }
   ],
   "source": [
    "l = [True for _ in range(5)]\n",
    "print(l, 'all(l) = {}'.format(all(l)))\n",
    "l[1] = False\n",
    "print(l, 'all(l) = {}'.format(all(l)))"
   ]
  },
  {
   "cell_type": "code",
   "execution_count": null,
   "metadata": {},
   "outputs": [],
   "source": []
  }
 ],
 "metadata": {
  "kernelspec": {
   "display_name": "Python 3.11.1 64-bit ('3.11.1')",
   "language": "python",
   "name": "python3"
  },
  "language_info": {
   "codemirror_mode": {
    "name": "ipython",
    "version": 3
   },
   "file_extension": ".py",
   "mimetype": "text/x-python",
   "name": "python",
   "nbconvert_exporter": "python",
   "pygments_lexer": "ipython3",
   "version": "3.11.1"
  },
  "orig_nbformat": 4,
  "vscode": {
   "interpreter": {
    "hash": "cce2c7c4a780bf333c2fed878396240a0fb3260782fa6ce58b4003ce7a205b60"
   }
  }
 },
 "nbformat": 4,
 "nbformat_minor": 2
}
